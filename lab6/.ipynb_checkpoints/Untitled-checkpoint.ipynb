{
 "cells": [
  {
   "cell_type": "code",
   "execution_count": null,
   "metadata": {},
   "outputs": [],
   "source": [
    "d = 0\n",
    "x1 = 0\n",
    "x2 = 1\n",
    "y1 = 1\n",
    "temp_phi = phi\n",
    "    \n",
    "while e > 0:\n",
    "    temp1 = temp_phi/e\n",
    "    temp2 = temp_phi - temp1 * e\n",
    "    temp_phi = e\n",
    "    e = temp2\n",
    "        \n",
    "    x = x2- temp1* x1\n",
    "    y = d - temp1 * y1\n",
    "        \n",
    "    x2 = x1\n",
    "    x1 = x\n",
    "    d = y1\n",
    "    y1 = y\n",
    "    \n",
    "if temp_phi == 1:\n",
    "    d=d + phi"
   ]
  }
 ],
 "metadata": {
  "kernelspec": {
   "display_name": "Python 3",
   "language": "python",
   "name": "python3"
  },
  "language_info": {
   "codemirror_mode": {
    "name": "ipython",
    "version": 3
   },
   "file_extension": ".py",
   "mimetype": "text/x-python",
   "name": "python",
   "nbconvert_exporter": "python",
   "pygments_lexer": "ipython3",
   "version": "3.6.7"
  }
 },
 "nbformat": 4,
 "nbformat_minor": 2
}
