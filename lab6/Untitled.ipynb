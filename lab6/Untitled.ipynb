{
 "cells": [
  {
   "cell_type": "code",
   "execution_count": 4,
   "metadata": {},
   "outputs": [],
   "source": [
    "p=173\n",
    "q=149\n",
    "e=3\n",
    "n = p * q\n",
    "phi = (p-1) * (q-1)\n",
    "a=e\n",
    "b=phi\n",
    "x = 0\n",
    "y = 1\n",
    "lx = 1\n",
    "ly = 0\n",
    "oa = a  # Remember original a/b to remove\n",
    "ob = b  # negative values from return results\n",
    "while b != 0:\n",
    "    q = a // b\n",
    "    (a, b) = (b, a % b)\n",
    "    (x, lx) = ((lx - (q * x)), x)\n",
    "    (y, ly) = ((ly - (q * y)), y)\n",
    "if lx < 0:\n",
    "    lx += ob  \n",
    "if ly < 0:\n",
    "    ly += oa  \n",
    "\n",
    "d = lx\n"
   ]
  },
  {
   "cell_type": "code",
   "execution_count": 21,
   "metadata": {},
   "outputs": [],
   "source": [
    "def findRInv(r, n) : \n",
    "    n0 = n \n",
    "    y = 0\n",
    "    x = 1\n",
    "    if (n == 1) : \n",
    "        return 0\n",
    "    while (r > 1) : \n",
    "        q = r // n \n",
    "        t = n\n",
    "        n = r % n \n",
    "        r = t \n",
    "        t = y \n",
    "        y = x - q * y \n",
    "        x = t \n",
    "    if (x < 0) : \n",
    "        x = x + n0 \n",
    "    return x  "
   ]
  },
  {
   "cell_type": "code",
   "execution_count": 22,
   "metadata": {},
   "outputs": [],
   "source": [
    "plaintext = \"NITK575025\"\n",
    "r = 20\n",
    "ri = findRInv(r,n)\n",
    "#ciphertext = [(ord(char) ** e) % n for char in plaintext]"
   ]
  },
  {
   "cell_type": "code",
   "execution_count": 23,
   "metadata": {},
   "outputs": [],
   "source": [
    "#ciphertext"
   ]
  },
  {
   "cell_type": "code",
   "execution_count": 24,
   "metadata": {},
   "outputs": [],
   "source": [
    "#plain = [chr((char ** d) % n) for char in ciphertext]"
   ]
  },
  {
   "cell_type": "code",
   "execution_count": 25,
   "metadata": {},
   "outputs": [],
   "source": [
    "#plain = ''.join(plain)"
   ]
  },
  {
   "cell_type": "code",
   "execution_count": 26,
   "metadata": {},
   "outputs": [],
   "source": [
    "#plain"
   ]
  },
  {
   "cell_type": "code",
   "execution_count": 27,
   "metadata": {},
   "outputs": [],
   "source": [
    "mp = [(ord(char) * (r ** e)) % n for char in plaintext]\n",
    "sp = [(char ** d) % n for char in mp]\n",
    "s = [(char * ri) % n for char in sp]\n",
    "plain =  [chr((char ** e) % n) for char in s]\n",
    "    plain = ''.join(plain)"
   ]
  },
  {
   "cell_type": "code",
   "execution_count": 28,
   "metadata": {},
   "outputs": [
    {
     "data": {
      "text/plain": [
       "'NITK575025'"
      ]
     },
     "execution_count": 28,
     "metadata": {},
     "output_type": "execute_result"
    }
   ],
   "source": [
    "plain"
   ]
  },
  {
   "cell_type": "code",
   "execution_count": 31,
   "metadata": {},
   "outputs": [],
   "source": [
    "import math\n",
    "n = 78952\n",
    "chun = [1]*65\n",
    "\n",
    "for i in range(16,65):\n",
    "\tchun[i] = i//8\n",
    "\n",
    "chunSize = chun[int(math.log2(n))]\n",
    "pSize = len(plaintext)\n",
    "ptarr = []\n",
    "for i in range(0,pSize,chunSize):\n",
    "\tptarr.append(plaintext[i:i+2])\n"
   ]
  },
  {
   "cell_type": "code",
   "execution_count": 32,
   "metadata": {},
   "outputs": [
    {
     "data": {
      "text/plain": [
       "2"
      ]
     },
     "execution_count": 32,
     "metadata": {},
     "output_type": "execute_result"
    }
   ],
   "source": [
    "chunSize"
   ]
  },
  {
   "cell_type": "code",
   "execution_count": 33,
   "metadata": {},
   "outputs": [
    {
     "data": {
      "text/plain": [
       "['NI', 'TK', '57', '50', '25']"
      ]
     },
     "execution_count": 33,
     "metadata": {},
     "output_type": "execute_result"
    }
   ],
   "source": [
    "ptarr"
   ]
  },
  {
   "cell_type": "code",
   "execution_count": 34,
   "metadata": {},
   "outputs": [],
   "source": [
    "def int2bin(x, n=0):\n",
    "\treturn format(x, 'b').zfill(n)"
   ]
  },
  {
   "cell_type": "code",
   "execution_count": 37,
   "metadata": {},
   "outputs": [],
   "source": [
    "block='NI'\n",
    "char=\"\"\n",
    "for i in block:\n",
    "\tchar += int2bin(ord(i),8)"
   ]
  },
  {
   "cell_type": "code",
   "execution_count": 38,
   "metadata": {},
   "outputs": [
    {
     "data": {
      "text/plain": [
       "'0100111001001001'"
      ]
     },
     "execution_count": 38,
     "metadata": {},
     "output_type": "execute_result"
    }
   ],
   "source": [
    "char"
   ]
  },
  {
   "cell_type": "code",
   "execution_count": 39,
   "metadata": {},
   "outputs": [
    {
     "data": {
      "text/plain": [
       "20041"
      ]
     },
     "execution_count": 39,
     "metadata": {},
     "output_type": "execute_result"
    }
   ],
   "source": [
    "int(char,2)"
   ]
  },
  {
   "cell_type": "code",
   "execution_count": null,
   "metadata": {},
   "outputs": [],
   "source": []
  }
 ],
 "metadata": {
  "kernelspec": {
   "display_name": "Python 3",
   "language": "python",
   "name": "python3"
  },
  "language_info": {
   "codemirror_mode": {
    "name": "ipython",
    "version": 3
   },
   "file_extension": ".py",
   "mimetype": "text/x-python",
   "name": "python",
   "nbconvert_exporter": "python",
   "pygments_lexer": "ipython3",
   "version": "3.6.7"
  }
 },
 "nbformat": 4,
 "nbformat_minor": 2
}
