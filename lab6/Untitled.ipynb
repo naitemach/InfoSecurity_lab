{
 "cells": [
  {
   "cell_type": "code",
   "execution_count": 66,
   "metadata": {},
   "outputs": [],
   "source": [
    "p=173\n",
    "q=149\n",
    "e=3\n",
    "n = p * q\n",
    "phi = (p-1) * (q-1)\n",
    "a=e\n",
    "b=phi\n",
    "x = 0\n",
    "y = 1\n",
    "lx = 1\n",
    "ly = 0\n",
    "oa = a  # Remember original a/b to remove\n",
    "ob = b  # negative values from return results\n",
    "while b != 0:\n",
    "    q = a // b\n",
    "    (a, b) = (b, a % b)\n",
    "    (x, lx) = ((lx - (q * x)), x)\n",
    "    (y, ly) = ((ly - (q * y)), y)\n",
    "if lx < 0:\n",
    "    lx += ob  \n",
    "if ly < 0:\n",
    "    ly += oa  \n",
    "\n",
    "d = lx\n"
   ]
  },
  {
   "cell_type": "code",
   "execution_count": 77,
   "metadata": {},
   "outputs": [],
   "source": [
    "plaintext = \"NITK575025\"\n",
    "ciphertext = [(ord(char) ** e) % n for char in plaintext]"
   ]
  },
  {
   "cell_type": "code",
   "execution_count": 79,
   "metadata": {},
   "outputs": [
    {
     "data": {
      "text/plain": [
       "[10566, 2362, 25610, 9443, 19992, 11713, 19992, 7484, 21892, 19992]"
      ]
     },
     "execution_count": 79,
     "metadata": {},
     "output_type": "execute_result"
    }
   ],
   "source": [
    "ciphertext"
   ]
  },
  {
   "cell_type": "code",
   "execution_count": 80,
   "metadata": {},
   "outputs": [],
   "source": [
    "plain = [chr((char ** d) % n) for char in ciphertext]"
   ]
  },
  {
   "cell_type": "code",
   "execution_count": 81,
   "metadata": {},
   "outputs": [],
   "source": [
    "plain = ''.join(plain)"
   ]
  },
  {
   "cell_type": "code",
   "execution_count": 82,
   "metadata": {},
   "outputs": [
    {
     "data": {
      "text/plain": [
       "'NITK575025'"
      ]
     },
     "execution_count": 82,
     "metadata": {},
     "output_type": "execute_result"
    }
   ],
   "source": [
    "plain"
   ]
  },
  {
   "cell_type": "code",
   "execution_count": null,
   "metadata": {},
   "outputs": [],
   "source": []
  }
 ],
 "metadata": {
  "kernelspec": {
   "display_name": "Python 3",
   "language": "python",
   "name": "python3"
  },
  "language_info": {
   "codemirror_mode": {
    "name": "ipython",
    "version": 3
   },
   "file_extension": ".py",
   "mimetype": "text/x-python",
   "name": "python",
   "nbconvert_exporter": "python",
   "pygments_lexer": "ipython3",
   "version": "3.6.7"
  }
 },
 "nbformat": 4,
 "nbformat_minor": 2
}
