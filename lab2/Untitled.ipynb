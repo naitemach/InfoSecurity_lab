{
 "cells": [
  {
   "cell_type": "code",
   "execution_count": 18,
   "metadata": {},
   "outputs": [],
   "source": [
    "pd=[57,49,41,33,25,17,9,1,58,50,42,34,26,18,10,2,59,51,43,35,27,19,11,3,60,52,44,36,63,55,47,39,31,23,15,7,62,54,46,38,30,22,14,6,61,53,45,37,29,21,13,5,28,20,12,4]"
   ]
  },
  {
   "cell_type": "code",
   "execution_count": 19,
   "metadata": {},
   "outputs": [],
   "source": [
    "cb=[14,17,11,24,1,5,3,28,15,6,21,10,23,19,12,4,26,8,16,7,27,20,13,2,41,52,31,37,47,55,30,40,51,45,33,48,44,49,39,56,34,53,46,42,50,36,29,32]"
   ]
  },
  {
   "cell_type": "code",
   "execution_count": 20,
   "metadata": {},
   "outputs": [],
   "source": [
    "def int2bin(x, n=0):\n",
    "\treturn format(x, 'b').zfill(n)"
   ]
  },
  {
   "cell_type": "code",
   "execution_count": 21,
   "metadata": {},
   "outputs": [],
   "source": [
    "#a=\"1000101000101011010101000001010010100000101001010010101010101010\"\n",
    "a=\"NITKSura\"\n",
    "temp=\"\"\n",
    "for i in a:\n",
    "    temp += int2bin(ord(i),8)\n",
    "a=temp"
   ]
  },
  {
   "cell_type": "code",
   "execution_count": 22,
   "metadata": {},
   "outputs": [
    {
     "data": {
      "text/plain": [
       "'0100111001001001010101000100101101010011011101010111001001100001'"
      ]
     },
     "execution_count": 22,
     "metadata": {},
     "output_type": "execute_result"
    }
   ],
   "source": [
    "a"
   ]
  },
  {
   "cell_type": "code",
   "execution_count": 23,
   "metadata": {},
   "outputs": [
    {
     "data": {
      "text/plain": [
       "64"
      ]
     },
     "execution_count": 23,
     "metadata": {},
     "output_type": "execute_result"
    }
   ],
   "source": [
    "len(a)"
   ]
  },
  {
   "cell_type": "code",
   "execution_count": 24,
   "metadata": {},
   "outputs": [],
   "source": [
    "opd=\"\"\n",
    "for i in range(56):\n",
    "\topd = opd + a[pd[i]-1]"
   ]
  },
  {
   "cell_type": "code",
   "execution_count": 25,
   "metadata": {},
   "outputs": [
    {
     "data": {
      "text/plain": [
       "'00000000111111111110000001110101100100100101000010110100'"
      ]
     },
     "execution_count": 25,
     "metadata": {},
     "output_type": "execute_result"
    }
   ],
   "source": [
    "opd"
   ]
  },
  {
   "cell_type": "code",
   "execution_count": 26,
   "metadata": {},
   "outputs": [],
   "source": [
    "def leftShift(x,y):\n",
    "    x = x[y:] + x[:y]\n",
    "    return x"
   ]
  },
  {
   "cell_type": "code",
   "execution_count": 27,
   "metadata": {},
   "outputs": [],
   "source": [
    "left = opd[0:28]\n",
    "right = opd[28:]"
   ]
  },
  {
   "cell_type": "code",
   "execution_count": 28,
   "metadata": {},
   "outputs": [
    {
     "name": "stdout",
     "output_type": "stream",
     "text": [
      "key 1  : 111000001001001011101010101000001001000001001011\n",
      "key 2  : 111100001001001011110010011110110000010110011000\n",
      "key 3  : 101101001101101001010010000010010101000100001011\n",
      "key 4  : 001001100111001101010110010001100111000000100100\n",
      "key 5  : 001011100101010101010101111000000000100111101100\n",
      "key 6  : 010011110100000101111001100000001001101010011011\n",
      "key 7  : 100011111100000110111001010101110001011000110001\n",
      "key 8  : 100111110000101110001011000110110000100101101000\n",
      "key 9  : 001110110000101110001011010101000100011010100110\n",
      "key 10  : 001110010011100010001101100111000000100011001001\n",
      "key 11  : 000100010010110011011100100000101111001001010001\n",
      "key 12  : 010101000110110010110100001100111010011100100000\n",
      "key 13  : 110101101010110100100100101110000000110100000010\n",
      "key 14  : 110010101010011000100111010011000110001000010110\n",
      "key 15  : 111010011001011000101110011101010110000011001000\n",
      "key 16  : 111000011001011010101010010000101010111000010101\n"
     ]
    }
   ],
   "source": [
    "for i in range(1,17):\n",
    "    if i==1 or i==2 or i==9 or i==16:\n",
    "        left = leftShift(left,1)\n",
    "        right = leftShift(right,1)\n",
    "    else:\n",
    "        left = leftShift(left,2)\n",
    "        right = leftShift(right,2)\n",
    "    ocb=\"\"\n",
    "    icb=left+right\n",
    "    for j in range(48):\n",
    "        ocb=ocb+icb[cb[j]-1]\n",
    "    print(\"key \" + str(i) + \"  : \" + ocb)\n",
    "    \n",
    "    "
   ]
  },
  {
   "cell_type": "code",
   "execution_count": null,
   "metadata": {},
   "outputs": [],
   "source": []
  },
  {
   "cell_type": "code",
   "execution_count": null,
   "metadata": {},
   "outputs": [],
   "source": []
  }
 ],
 "metadata": {
  "kernelspec": {
   "display_name": "Python 3",
   "language": "python",
   "name": "python3"
  },
  "language_info": {
   "codemirror_mode": {
    "name": "ipython",
    "version": 3
   },
   "file_extension": ".py",
   "mimetype": "text/x-python",
   "name": "python",
   "nbconvert_exporter": "python",
   "pygments_lexer": "ipython3",
   "version": "3.6.5"
  }
 },
 "nbformat": 4,
 "nbformat_minor": 2
}
