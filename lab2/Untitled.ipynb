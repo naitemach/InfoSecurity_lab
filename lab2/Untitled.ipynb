{
 "cells": [
  {
   "cell_type": "code",
   "execution_count": 28,
   "metadata": {},
   "outputs": [],
   "source": [
    "pd=[57,49,41,33,25,17,9,1,58,50,42,34,26,18,10,2,59,51,43,35,27,19,11,3,60,52,44,36,63,55,47,39,31,23,15,7,62,54,46,38,30,22,14,6,61,53,45,37,29,21,13,5,28,20,12,4]"
   ]
  },
  {
   "cell_type": "code",
   "execution_count": 29,
   "metadata": {},
   "outputs": [],
   "source": [
    "cb=[14,17,11,24,1,5,3,28,15,6,21,10,23,19,12,4,26,8,16,7,27,20,13,2,41,52,31,37,47,55,30,40,51,45,33,48,44,49,39,56,34,53,46,42,50,36,29,32]"
   ]
  },
  {
   "cell_type": "code",
   "execution_count": 30,
   "metadata": {},
   "outputs": [],
   "source": [
    "a=\"1000101000101011010101000001010010100000101001010010101010101010\""
   ]
  },
  {
   "cell_type": "code",
   "execution_count": 31,
   "metadata": {},
   "outputs": [],
   "source": [
    "opd=\"\"\n",
    "for i in range(56):\n",
    "\topd = opd + a[pd[i]-1]"
   ]
  },
  {
   "cell_type": "code",
   "execution_count": 32,
   "metadata": {},
   "outputs": [
    {
     "data": {
      "text/plain": [
       "'10110001000001001111001000001100001100101100110000111100'"
      ]
     },
     "execution_count": 32,
     "metadata": {},
     "output_type": "execute_result"
    }
   ],
   "source": [
    "opd"
   ]
  },
  {
   "cell_type": "code",
   "execution_count": 33,
   "metadata": {},
   "outputs": [],
   "source": [
    "def leftShift(x,y):\n",
    "    x = x[y:]\n",
    "    for i in range(y):\n",
    "        x = x+'0'\n",
    "    return x"
   ]
  },
  {
   "cell_type": "code",
   "execution_count": 36,
   "metadata": {},
   "outputs": [],
   "source": [
    "left = opd[0:28]\n",
    "right = opd[28:]"
   ]
  },
  {
   "cell_type": "code",
   "execution_count": 37,
   "metadata": {},
   "outputs": [
    {
     "name": "stdout",
     "output_type": "stream",
     "text": [
      "key 1  : 010000100000010000110011110000011100100011001010\n",
      "key 2  : 010010001110001000100001010100011010111010001000\n",
      "key 3  : 100000001001010100100010101110000001010000011001\n",
      "key 4  : 111000000000001001000011000010110111001000100110\n",
      "key 5  : 001000001101001000000000001100000110100010100000\n",
      "key 6  : 000000000001000101010010101000000000100000010111\n",
      "key 7  : 001001000100000001010001100000110010001010010010\n",
      "key 8  : 000001100100000100000000001100010000001000000001\n",
      "key 9  : 000001100000000101000001001100100000001000000100\n",
      "key 10  : 000010100100000000000001000100000000000010000110\n",
      "key 11  : 000010000000000100000000000000000010000010000001\n",
      "key 12  : 000000000000000000000001001000100010000000000001\n",
      "key 13  : 000000000000000000000000001000100000000000000010\n",
      "key 14  : 000000000000000000000000000000000000000000000010\n",
      "key 15  : 000000000000000000000000000000000000000000000000\n",
      "key 16  : 000000000000000000000000000000000000000000000000\n"
     ]
    }
   ],
   "source": [
    "for i in range(1,17):\n",
    "    if i==1 or i==2 or i==9 or i==16:\n",
    "        left = leftShift(left,1)\n",
    "        right = leftShift(right,1)\n",
    "    else:\n",
    "        left = leftShift(left,2)\n",
    "        right = leftShift(right,2)\n",
    "    ocb=\"\"\n",
    "    icb=left+right\n",
    "    for j in range(48):\n",
    "        ocb=ocb+icb[cb[j]-1]\n",
    "    print(\"key \" + str(i) + \"  : \" + ocb)\n",
    "    \n",
    "    "
   ]
  },
  {
   "cell_type": "code",
   "execution_count": null,
   "metadata": {},
   "outputs": [],
   "source": []
  }
 ],
 "metadata": {
  "kernelspec": {
   "display_name": "Python 3",
   "language": "python",
   "name": "python3"
  },
  "language_info": {
   "codemirror_mode": {
    "name": "ipython",
    "version": 3
   },
   "file_extension": ".py",
   "mimetype": "text/x-python",
   "name": "python",
   "nbconvert_exporter": "python",
   "pygments_lexer": "ipython3",
   "version": "3.6.5"
  }
 },
 "nbformat": 4,
 "nbformat_minor": 2
}
